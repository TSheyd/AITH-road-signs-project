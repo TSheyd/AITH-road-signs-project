{
 "cells": [
  {
   "cell_type": "code",
   "execution_count": 3,
   "id": "938e5b18-e00d-46c9-92cf-50087e7f060e",
   "metadata": {},
   "outputs": [],
   "source": [
    "import glob\n",
    "import numpy as np\n",
    "from sklearn.model_selection import train_test_split as tts\n",
    "import shutil"
   ]
  },
  {
   "cell_type": "code",
   "execution_count": 2,
   "id": "101acd2a-2322-4507-88fe-d2ad15d83292",
   "metadata": {},
   "outputs": [
    {
     "name": "stdout",
     "output_type": "stream",
     "text": [
      "Data_preparation.ipynb \u001b[34mruns\u001b[m\u001b[m\n",
      "evaluating.ipynb       train_pipeline.ipynb\n"
     ]
    }
   ],
   "source": [
    "!ls"
   ]
  },
  {
   "cell_type": "code",
   "execution_count": 5,
   "id": "88d8bf9a-2c6a-4636-b97b-7a2b60811c6c",
   "metadata": {},
   "outputs": [],
   "source": [
    "img_paths = glob.glob(\"../DATA_overfit/train/*\")"
   ]
  },
  {
   "cell_type": "code",
   "execution_count": 7,
   "id": "2a9fe275-84b6-4550-a293-8739b450cdd2",
   "metadata": {},
   "outputs": [
    {
     "data": {
      "text/plain": [
       "1202"
      ]
     },
     "execution_count": 7,
     "metadata": {},
     "output_type": "execute_result"
    }
   ],
   "source": [
    "len(img_paths)"
   ]
  },
  {
   "cell_type": "code",
   "execution_count": null,
   "id": "207cc1ef-c144-408a-8e08-87c0e8dfc870",
   "metadata": {},
   "outputs": [],
   "source": []
  }
 ],
 "metadata": {
  "kernelspec": {
   "display_name": "Python 3 (ipykernel)",
   "language": "python",
   "name": "python3"
  },
  "language_info": {
   "codemirror_mode": {
    "name": "ipython",
    "version": 3
   },
   "file_extension": ".py",
   "mimetype": "text/x-python",
   "name": "python",
   "nbconvert_exporter": "python",
   "pygments_lexer": "ipython3",
   "version": "3.9.18"
  }
 },
 "nbformat": 4,
 "nbformat_minor": 5
}
